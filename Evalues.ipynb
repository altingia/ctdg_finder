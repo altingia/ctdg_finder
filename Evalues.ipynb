{
 "cells": [
  {
   "cell_type": "code",
   "execution_count": 1,
   "metadata": {
    "collapsed": false
   },
   "outputs": [],
   "source": [
    "import pandas as pd\n",
    "from glob import glob\n",
    "import seaborn as sns\n",
    "import matplotlib.pyplot as plt\n",
    "%matplotlib inline"
   ]
  },
  {
   "cell_type": "code",
   "execution_count": 2,
   "metadata": {
    "collapsed": false
   },
   "outputs": [],
   "source": [
    "ROOT = \"evals\""
   ]
  },
  {
   "cell_type": "code",
   "execution_count": 5,
   "metadata": {
    "collapsed": false,
    "scrolled": true
   },
   "outputs": [],
   "source": [
    "numbers, genes =[], []\n",
    "for file in glob(\"{}/*/report/*.csv\".format(ROOT)):\n",
    "    base_name = file.split(\"/\")[1]\n",
    "    family, evalue = base_name.split(\"_\")\n",
    "#     family = family + \"_\" + blasts\n",
    "    if \"numbers_clean\" in file:\n",
    "        number = pd.read_csv(file)\n",
    "        number.loc[:, 'family'] = family\n",
    "        number.loc[:, 'evalue'] = evalue\n",
    "        numbers.append(number)\n",
    "    elif \"genes\" in file:\n",
    "        gene = pd.read_csv(file)\n",
    "        gene.loc[:, \"family\"] = family\n",
    "        gene.loc[:, \"Evalue\"] = evalue\n",
    "        gene = gene.loc[~(gene['cluster'].isin(['na', '0',\"0.0\"]))]\n",
    "        genes.append(gene)\n",
    "numbers_table = pd.concat(numbers)\n",
    "genes_table = pd.concat(genes)"
   ]
  },
  {
   "cell_type": "code",
   "execution_count": 6,
   "metadata": {
    "collapsed": false
   },
   "outputs": [],
   "source": [
    "number_group = numbers_table.groupby(['species','family','evalue'])"
   ]
  },
  {
   "cell_type": "code",
   "execution_count": 7,
   "metadata": {
    "collapsed": false,
    "scrolled": true
   },
   "outputs": [],
   "source": [
    "total_paralogs = number_group.sum()['paralogs']"
   ]
  },
  {
   "cell_type": "code",
   "execution_count": 8,
   "metadata": {
    "collapsed": false,
    "scrolled": true
   },
   "outputs": [],
   "source": [
    "number_clusters = number_group.count()['cluster']"
   ]
  },
  {
   "cell_type": "code",
   "execution_count": 9,
   "metadata": {
    "collapsed": false,
    "scrolled": true
   },
   "outputs": [],
   "source": [
    "cluster_paralogs = pd.concat([total_paralogs, number_clusters],1)\n",
    "\n",
    "cluster_paralogs.columns = [\"Duplicates\", \"Clusters\"]"
   ]
  },
  {
   "cell_type": "code",
   "execution_count": 10,
   "metadata": {
    "collapsed": false,
    "scrolled": true
   },
   "outputs": [
    {
     "name": "stdout",
     "output_type": "stream",
     "text": [
      "Papio_anubis\n",
      "Capra_hircus\n",
      "Pongo_abelii\n",
      "Microtus_ochrogaster\n",
      "Canis_lupus_familiaris\n",
      "Rattus_norvegicus\n",
      "Mus_musculus\n",
      "Sus_scrofa\n",
      "Bos_taurus\n",
      "Macaca_fascicularis\n",
      "Homo_sapiens\n",
      "Ovis_aries\n",
      "Gorilla_gorilla_gorilla\n",
      "Monodelphis_domestica\n",
      "Ornithorhynchus_anatinus\n",
      "Oryctolagus_cuniculus\n",
      "Callithrix_jacchus\n",
      "Chlorocebus_sabaeus\n",
      "Pan_troglodytes\n",
      "Felis_catus\n",
      "Nomascus_leucogenys\n",
      "Equus_caballus\n",
      "Macaca_mulatta\n"
     ]
    }
   ],
   "source": [
    "sns.set_style(\"white\")\n",
    "for sp in set(cluster_paralogs.index.get_level_values(0)):\n",
    "    print(sp)\n",
    "    for value_plot in [\"Duplicates\", \"Clusters\"]:\n",
    "        sp_title = sp.replace(\"_\", \" \")\n",
    "        sp_tab = cluster_paralogs.loc[sp]\n",
    "        evalues = ['1','1e-1','1e-2','1e-3','1e-4','1e-5','1e-6','1e-7','1e-8','1e-9','1e-10']\n",
    "        barplot = sns.barplot(x=\"family\",y=value_plot,hue='evalue',data=sp_tab.reset_index(),\n",
    "                              hue_order=evalues, palette=sns.color_palette(\"gray\",n_colors=11))\n",
    "        barplot.legend(loc=(1,0),title='Evalue',ncol=1)\n",
    "        sns.despine()\n",
    "        plt.title(sp_title)\n",
    "        plt.ylabel(value_plot)\n",
    "        plt.setp(barplot.get_xticklabels(), rotation=90);\n",
    "        plt.tight_layout(rect=(0,0,0.85,1))\n",
    "        plt.savefig(\"/home/alekos/Dropbox/placenta_clusters_paper/revision/figures/5000/{}_{}.svg\".format(sp,value_plot))\n",
    "        plt.close()"
   ]
  },
  {
   "cell_type": "code",
   "execution_count": 11,
   "metadata": {
    "collapsed": false
   },
   "outputs": [],
   "source": [
    "xls = pd.ExcelWriter(\"/home/alekos/Dropbox/placenta_clusters_paper/revision/evalues_5000.xlsx\")\n",
    "for sp in set(cluster_paralogs.index.get_level_values(0)):\n",
    "    cluster_paralogs.loc[sp].to_excel(xls, sp)\n",
    "    xls.save()"
   ]
  },
  {
   "cell_type": "code",
   "execution_count": null,
   "metadata": {
    "collapsed": true
   },
   "outputs": [],
   "source": []
  }
 ],
 "metadata": {
  "kernelspec": {
   "display_name": "Python 3",
   "language": "python",
   "name": "python3"
  },
  "language_info": {
   "codemirror_mode": {
    "name": "ipython",
    "version": 3
   },
   "file_extension": ".py",
   "mimetype": "text/x-python",
   "name": "python",
   "nbconvert_exporter": "python",
   "pygments_lexer": "ipython3",
   "version": "3.5.1"
  }
 },
 "nbformat": 4,
 "nbformat_minor": 0
}
