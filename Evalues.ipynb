{
 "cells": [
  {
   "cell_type": "code",
   "execution_count": 1,
   "metadata": {
    "collapsed": false
   },
   "outputs": [],
   "source": [
    "import pandas as pd\n",
    "from glob import glob\n",
    "import seaborn as sns\n",
    "import matplotlib.pyplot as plt\n",
    "%matplotlib inline"
   ]
  },
  {
   "cell_type": "code",
   "execution_count": 2,
   "metadata": {
    "collapsed": false
   },
   "outputs": [],
   "source": [
    "ROOT = \"evals\""
   ]
  },
  {
   "cell_type": "code",
   "execution_count": 3,
   "metadata": {
    "collapsed": false
   },
   "outputs": [
    {
     "name": "stdout",
     "output_type": "stream",
     "text": [
      "\u001b[0m\u001b[38;5;33mreport\u001b[0m/\r\n"
     ]
    }
   ],
   "source": [
    "ls evals/ghs_1/"
   ]
  },
  {
   "cell_type": "code",
   "execution_count": 4,
   "metadata": {
    "collapsed": false,
    "scrolled": true
   },
   "outputs": [],
   "source": [
    "numbers, genes =[], []\n",
    "for file in glob(\"{}/*/report/*.csv\".format(ROOT)):\n",
    "    base_name = file.split(\"/\")[1]\n",
    "    family, evalue = base_name.split(\"_\")\n",
    "    if \"numbers_clean\" in file:\n",
    "        number = pd.read_csv(file)\n",
    "        number.loc[:, 'family'] = family\n",
    "        number.loc[:, 'evalue'] = evalue\n",
    "        numbers.append(number)\n",
    "    elif \"genes\" in file:\n",
    "        gene = pd.read_csv(file)\n",
    "        gene.loc[:, \"family\"] = family\n",
    "        gene.loc[:, \"Evalue\"] = evalue\n",
    "        genes.append(gene)\n",
    "numbers_table = pd.concat(numbers)\n",
    "genes_table = pd.concat(genes)"
   ]
  },
  {
   "cell_type": "code",
   "execution_count": 5,
   "metadata": {
    "collapsed": false
   },
   "outputs": [],
   "source": [
    "number_group = numbers_table.groupby(['species','family','evalue'])"
   ]
  },
  {
   "cell_type": "code",
   "execution_count": 6,
   "metadata": {
    "collapsed": false,
    "scrolled": true
   },
   "outputs": [],
   "source": [
    "total_paralogs = number_group.sum()['paralogs']"
   ]
  },
  {
   "cell_type": "code",
   "execution_count": 7,
   "metadata": {
    "collapsed": false,
    "scrolled": true
   },
   "outputs": [],
   "source": [
    "number_clusters = number_group.count()['cluster']"
   ]
  },
  {
   "cell_type": "code",
   "execution_count": 8,
   "metadata": {
    "collapsed": false,
    "scrolled": true
   },
   "outputs": [],
   "source": [
    "cluster_paralogs = pd.concat([total_paralogs, number_clusters],1)"
   ]
  },
  {
   "cell_type": "code",
   "execution_count": 43,
   "metadata": {
    "collapsed": false,
    "scrolled": true
   },
   "outputs": [
    {
     "name": "stdout",
     "output_type": "stream",
     "text": [
      "Macaca_fascicularis\n",
      "Pan_troglodytes\n",
      "Sus_scrofa\n",
      "Oryctolagus_cuniculus\n",
      "Rattus_norvegicus\n",
      "Gorilla_gorilla_gorilla\n",
      "Monodelphis_domestica\n",
      "Ovis_aries\n",
      "Felis_catus\n",
      "Chlorocebus_sabaeus\n",
      "Callithrix_jacchus\n",
      "Mus_musculus\n",
      "Nomascus_leucogenys\n",
      "Equus_caballus\n",
      "Papio_anubis\n",
      "Capra_hircus\n",
      "Bos_taurus\n",
      "Macaca_mulatta\n",
      "Canis_lupus_familiaris\n",
      "Pongo_abelii\n",
      "Ornithorhynchus_anatinus\n",
      "Microtus_ochrogaster\n",
      "Homo_sapiens\n"
     ]
    }
   ],
   "source": [
    "for sp in set(cluster_paralogs.index.get_level_values(0)):\n",
    "    print(sp)\n",
    "    for value_plot in ['cluster', 'paralogs']:\n",
    "        sp_title = sp.replace(\"_\", \" \")\n",
    "        sp_tab = cluster_paralogs.loc[sp]\n",
    "        evalues = ['1','1e-1','1e-2','1e-3','1e-4','1e-5','1e-6','1e-7','1e-8','1e-9','1e-10']\n",
    "        barplot = sns.barplot(x=\"family\",y=value_plot,hue='evalue',data=sp_tab.reset_index(),\n",
    "                              hue_order=evalues, palette=sns.color_palette(\"gray\",n_colors=11))\n",
    "        barplot.legend(loc=(1,0),title='Evalue',ncol=1)\n",
    "        plt.title(sp_title)\n",
    "        plt.ylabel(value_plot)\n",
    "        plt.setp(barplot.get_xticklabels(), rotation=90);\n",
    "        plt.tight_layout(rect=(0,0,0.85,1))\n",
    "        plt.savefig(\"/home/alekos/Dropbox/placenta_clusters_paper/revision/figures/{}_{}.svg\".format(sp,value_plot))\n",
    "        plt.close()"
   ]
  },
  {
   "cell_type": "code",
   "execution_count": 10,
   "metadata": {
    "collapsed": false
   },
   "outputs": [],
   "source": [
    "rat_1 = numbers_table.loc[(numbers_table['species']=='Rattus_norvegicus')&\n",
    "                          (numbers_table['family']==\"siglecs\")].sort_values(\"family\")"
   ]
  },
  {
   "cell_type": "code",
   "execution_count": 27,
   "metadata": {
    "collapsed": false,
    "scrolled": true
   },
   "outputs": [
    {
     "data": {
      "text/html": [
       "<div>\n",
       "<table border=\"1\" class=\"dataframe\">\n",
       "  <thead>\n",
       "    <tr style=\"text-align: right;\">\n",
       "      <th></th>\n",
       "      <th>paralogs</th>\n",
       "      <th>cluster</th>\n",
       "    </tr>\n",
       "    <tr>\n",
       "      <th>evalue</th>\n",
       "      <th></th>\n",
       "      <th></th>\n",
       "    </tr>\n",
       "  </thead>\n",
       "  <tbody>\n",
       "    <tr>\n",
       "      <th>1</th>\n",
       "      <td>11</td>\n",
       "      <td>2</td>\n",
       "    </tr>\n",
       "    <tr>\n",
       "      <th>1e-1</th>\n",
       "      <td>11</td>\n",
       "      <td>2</td>\n",
       "    </tr>\n",
       "    <tr>\n",
       "      <th>1e-2</th>\n",
       "      <td>11</td>\n",
       "      <td>2</td>\n",
       "    </tr>\n",
       "    <tr>\n",
       "      <th>1e-3</th>\n",
       "      <td>11</td>\n",
       "      <td>2</td>\n",
       "    </tr>\n",
       "  </tbody>\n",
       "</table>\n",
       "</div>"
      ],
      "text/plain": [
       "        paralogs  cluster\n",
       "evalue                   \n",
       "1             11        2\n",
       "1e-1          11        2\n",
       "1e-2          11        2\n",
       "1e-3          11        2"
      ]
     },
     "execution_count": 27,
     "metadata": {},
     "output_type": "execute_result"
    }
   ],
   "source": [
    "cluster_paralogs.loc[('Bos_taurus','globin')]"
   ]
  },
  {
   "cell_type": "code",
   "execution_count": 12,
   "metadata": {
    "collapsed": false
   },
   "outputs": [],
   "source": [
    "rat_siglecs = genes_table.loc[(genes_table['species']==\"Rattus_norvegicus\")&\n",
    "                              (genes_table['family']=='siglecs')&\n",
    "                              (genes_table['Evalue'].isin(['1','1e-1']))&\n",
    "                              ~(genes_table['cluster'].isin([\"na\",\"0.0\"]))]"
   ]
  },
  {
   "cell_type": "code",
   "execution_count": 13,
   "metadata": {
    "collapsed": false
   },
   "outputs": [],
   "source": [
    "diff_genes = set(rat_siglecs.loc[rat_siglecs['Evalue']==\"1e-1\",\"symbol\"]) - set(rat_siglecs.loc[rat_siglecs['Evalue']==\"1\",\"symbol\"])"
   ]
  },
  {
   "cell_type": "code",
   "execution_count": 14,
   "metadata": {
    "collapsed": true
   },
   "outputs": [],
   "source": [
    "rat_diff = rat_siglecs.loc[rat_siglecs['symbol'].isin(diff_genes)]"
   ]
  },
  {
   "cell_type": "code",
   "execution_count": 15,
   "metadata": {
    "collapsed": false
   },
   "outputs": [
    {
     "data": {
      "text/html": [
       "<div>\n",
       "<table border=\"1\" class=\"dataframe\">\n",
       "  <thead>\n",
       "    <tr style=\"text-align: right;\">\n",
       "      <th></th>\n",
       "      <th>query</th>\n",
       "      <th>species</th>\n",
       "      <th>chromosome</th>\n",
       "      <th>prot_acc</th>\n",
       "      <th>symbol</th>\n",
       "      <th>start</th>\n",
       "      <th>end</th>\n",
       "      <th>strand</th>\n",
       "      <th>evalue</th>\n",
       "      <th>Length</th>\n",
       "      <th>cluster</th>\n",
       "      <th>order</th>\n",
       "      <th>family</th>\n",
       "      <th>Evalue</th>\n",
       "    </tr>\n",
       "  </thead>\n",
       "  <tbody>\n",
       "  </tbody>\n",
       "</table>\n",
       "</div>"
      ],
      "text/plain": [
       "Empty DataFrame\n",
       "Columns: [query, species, chromosome, prot_acc, symbol, start, end, strand, evalue, Length, cluster, order, family, Evalue]\n",
       "Index: []"
      ]
     },
     "execution_count": 15,
     "metadata": {},
     "output_type": "execute_result"
    }
   ],
   "source": [
    "rat_diff"
   ]
  },
  {
   "cell_type": "code",
   "execution_count": 16,
   "metadata": {
    "collapsed": false
   },
   "outputs": [
    {
     "data": {
      "text/html": [
       "<div>\n",
       "<table border=\"1\" class=\"dataframe\">\n",
       "  <thead>\n",
       "    <tr style=\"text-align: right;\">\n",
       "      <th></th>\n",
       "      <th>species</th>\n",
       "      <th>chromosome</th>\n",
       "      <th>cluster</th>\n",
       "      <th>start</th>\n",
       "      <th>end</th>\n",
       "      <th>paralogs</th>\n",
       "      <th>total_genes</th>\n",
       "      <th>proportion_paralogs</th>\n",
       "      <th>perc95_gw</th>\n",
       "      <th>family</th>\n",
       "      <th>evalue</th>\n",
       "    </tr>\n",
       "  </thead>\n",
       "  <tbody>\n",
       "  </tbody>\n",
       "</table>\n",
       "</div>"
      ],
      "text/plain": [
       "Empty DataFrame\n",
       "Columns: [species, chromosome, cluster, start, end, paralogs, total_genes, proportion_paralogs, perc95_gw, family, evalue]\n",
       "Index: []"
      ]
     },
     "execution_count": 16,
     "metadata": {},
     "output_type": "execute_result"
    }
   ],
   "source": [
    "rat_1.loc[rat_1['cluster'].isin(rat_diff['cluster'])]"
   ]
  },
  {
   "cell_type": "code",
   "execution_count": 17,
   "metadata": {
    "collapsed": false
   },
   "outputs": [
    {
     "name": "stdout",
     "output_type": "stream",
     "text": [
      "rm: cannot remove 'evals/siglecs_1e-1/': No such file or directory\r\n"
     ]
    }
   ],
   "source": [
    "!rm -r evals/siglecs_1e-1/"
   ]
  },
  {
   "cell_type": "code",
   "execution_count": null,
   "metadata": {
    "collapsed": true
   },
   "outputs": [],
   "source": []
  }
 ],
 "metadata": {
  "kernelspec": {
   "display_name": "Python 3",
   "language": "python",
   "name": "python3"
  },
  "language_info": {
   "codemirror_mode": {
    "name": "ipython",
    "version": 3
   },
   "file_extension": ".py",
   "mimetype": "text/x-python",
   "name": "python",
   "nbconvert_exporter": "python",
   "pygments_lexer": "ipython3",
   "version": "3.5.1"
  }
 },
 "nbformat": 4,
 "nbformat_minor": 0
}
